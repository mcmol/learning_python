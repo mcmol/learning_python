{
 "cells": [
  {
   "cell_type": "markdown",
   "metadata": {},
   "source": [
    "# Sleep analysis\n",
    "### Does sleep deprivation have an influence on programming skills?\n"
   ]
  },
  {
   "cell_type": "code",
   "execution_count": null,
   "metadata": {},
   "outputs": [],
   "source": [
    "## Importing the necessary packages and the dataset\n",
    "import numpy as np\n",
    "import pandas as pd\n",
    "import matplotlib.pylab as plt\n",
    "df = pd.read_csv(\"data/sleep_deprived_coding.csv\")"
   ]
  },
  {
   "cell_type": "code",
   "execution_count": null,
   "metadata": {},
   "outputs": [],
   "source": [
    "# Check out what's in the dataset\n",
    "df.head()"
   ]
  },
  {
   "cell_type": "markdown",
   "metadata": {},
   "source": [
    "The gpa in Italy is between 18 and 30. "
   ]
  },
  {
   "cell_type": "code",
   "execution_count": 3,
   "metadata": {},
   "outputs": [
    {
     "data": {
      "text/html": [
       "<div>\n",
       "<style scoped>\n",
       "    .dataframe tbody tr th:only-of-type {\n",
       "        vertical-align: middle;\n",
       "    }\n",
       "\n",
       "    .dataframe tbody tr th {\n",
       "        vertical-align: top;\n",
       "    }\n",
       "\n",
       "    .dataframe thead th {\n",
       "        text-align: right;\n",
       "    }\n",
       "</style>\n",
       "<table border=\"1\" class=\"dataframe\">\n",
       "  <thead>\n",
       "    <tr style=\"text-align: right;\">\n",
       "      <th></th>\n",
       "      <th>n</th>\n",
       "      <th>mean_unit_tests</th>\n",
       "      <th>mean_asserts</th>\n",
       "      <th>mean_user_stories</th>\n",
       "    </tr>\n",
       "    <tr>\n",
       "      <th>sleep</th>\n",
       "      <th></th>\n",
       "      <th></th>\n",
       "      <th></th>\n",
       "      <th></th>\n",
       "    </tr>\n",
       "  </thead>\n",
       "  <tbody>\n",
       "    <tr>\n",
       "      <th>deprived</th>\n",
       "      <td>15</td>\n",
       "      <td>1.133333</td>\n",
       "      <td>3.266667</td>\n",
       "      <td>1.600000</td>\n",
       "    </tr>\n",
       "    <tr>\n",
       "      <th>normal</th>\n",
       "      <td>21</td>\n",
       "      <td>2.904762</td>\n",
       "      <td>4.952381</td>\n",
       "      <td>2.714286</td>\n",
       "    </tr>\n",
       "  </tbody>\n",
       "</table>\n",
       "</div>"
      ],
      "text/plain": [
       "           n  mean_unit_tests  mean_asserts  mean_user_stories\n",
       "sleep                                                         \n",
       "deprived  15         1.133333      3.266667           1.600000\n",
       "normal    21         2.904762      4.952381           2.714286"
      ]
     },
     "execution_count": 3,
     "metadata": {},
     "output_type": "execute_result"
    }
   ],
   "source": [
    "(df\n",
    " .groupby('sleep')\n",
    " .agg(n=('id','count'),\n",
    "        mean_unit_tests=('passed_unit_tests', np.mean),\n",
    "        mean_asserts=('passed_asserts', np.mean),\n",
    "        mean_user_stories=('tackled_user_stories', np.mean),))"
   ]
  },
  {
   "cell_type": "markdown",
   "metadata": {},
   "source": [
    "Based on this aggregation of the data it seems as though sleep deprivation influences programming skills. This conclusion makes sense. However the dataset only contains 35 observations. So the question remains whether the influence of sleep is real or due to GPA or due to chance.\n",
    "\n",
    "Sampling is an option to further explore this question. First randomly assign sleep status to the observations at hand, then calculate the difference and repeat this for many cycles. "
   ]
  },
  {
   "cell_type": "code",
   "execution_count": 4,
   "metadata": {},
   "outputs": [
    {
     "data": {
      "text/plain": [
       "mean_unit_tests     -0.400000\n",
       "mean_asserts         0.142857\n",
       "mean_user_stories   -0.200000\n",
       "dtype: float64"
      ]
     },
     "execution_count": 4,
     "metadata": {},
     "output_type": "execute_result"
    }
   ],
   "source": [
    "def reshuffle(dataf):\n",
    "    return (dataf\n",
    "            .sample(36)\n",
    "            .reset_index(drop=True)\n",
    "            .assign(sleep=lambda d: np.where(d.index < 15, 'deprived', 'normal')))\n",
    "\n",
    "def calc_diff(dataf):\n",
    "    agg = (dataf\n",
    "           .groupby('sleep')\n",
    "           .agg(mean_unit_tests=('passed_unit_tests', np.mean),\n",
    "                mean_asserts=('passed_asserts', np.mean),\n",
    "                mean_user_stories=('tackled_user_stories', np.mean),)).T\n",
    "    return agg['deprived'] - agg['normal']\n",
    "\n",
    "df.pipe(reshuffle).pipe(calc_diff)\n"
   ]
  },
  {
   "cell_type": "markdown",
   "metadata": {},
   "source": [
    "This can be used to create a histogram. This way you'll get a spread of the data if everything was left to chance.That will tell you how likely it is to be on a certain part of the histogram."
   ]
  },
  {
   "cell_type": "code",
   "execution_count": 6,
   "metadata": {},
   "outputs": [
    {
     "data": {
      "text/plain": [
       "array([[-0.28571429, -0.08571429, -0.2       ],\n",
       "       [ 1.08571429,  0.25714286,  0.6       ],\n",
       "       [-0.28571429,  0.48571429, -0.42857143],\n",
       "       ...,\n",
       "       [-0.74285714, -0.42857143, -0.31428571],\n",
       "       [ 0.62857143, -0.2       ,  0.25714286],\n",
       "       [-1.42857143, -0.54285714, -0.88571429]])"
      ]
     },
     "execution_count": 6,
     "metadata": {},
     "output_type": "execute_result"
    }
   ],
   "source": [
    "n = 1000\n",
    "results = np.zeros((n, 3))\n",
    "for i in range(n):\n",
    "    results[i, :] = df.pipe(reshuffle).pipe(calc_diff)\n",
    "    \n",
    "results"
   ]
  },
  {
   "cell_type": "markdown",
   "metadata": {},
   "source": [
    "Turn the array into a dataframe."
   ]
  },
  {
   "cell_type": "code",
   "execution_count": 15,
   "metadata": {},
   "outputs": [
    {
     "name": "stdout",
     "output_type": "stream",
     "text": [
      "<class 'pandas.core.frame.DataFrame'>\n",
      "RangeIndex: 1000 entries, 0 to 999\n",
      "Data columns (total 3 columns):\n",
      " #   Column             Non-Null Count  Dtype  \n",
      "---  ------             --------------  -----  \n",
      " 0   diff_unit_tests    1000 non-null   float64\n",
      " 1   diff_asserts       1000 non-null   float64\n",
      " 2   diff_user_stories  1000 non-null   float64\n",
      "dtypes: float64(3)\n",
      "memory usage: 23.6 KB\n"
     ]
    }
   ],
   "source": [
    "df_diff = pd.DataFrame(results,\n",
    "                      columns=['diff_unit_tests',\n",
    "                              'diff_asserts',\n",
    "                              'diff_user_stories'])\n",
    "\n",
    "df_diff.head()\n",
    "df_diff.info()"
   ]
  },
  {
   "cell_type": "markdown",
   "metadata": {},
   "source": [
    "These histograms show the spread in data due to chance. We can use this to check the likelihood that the original dataset is due to sleep deprivation and not chance.\n",
    "\n",
    "The vertical lines in the histograms are the differences between sleep and no sleep in the original dataset."
   ]
  },
  {
   "cell_type": "code",
   "execution_count": 26,
   "metadata": {},
   "outputs": [
    {
     "data": {
      "text/plain": [
       "{'mean_unit_tests': -1.7714285714285714,\n",
       " 'mean_asserts': -1.685714285714286,\n",
       " 'mean_user_stories': -1.1142857142857143}"
      ]
     },
     "execution_count": 26,
     "metadata": {},
     "output_type": "execute_result"
    }
   ],
   "source": [
    "effect_dict = dict(calc_diff(df))\n",
    "effect_dict"
   ]
  },
  {
   "cell_type": "code",
   "execution_count": 27,
   "metadata": {
    "scrolled": true
   },
   "outputs": [
    {
     "data": {
      "image/png": "[encoded data removed]",
      "text/plain": [
       "<Figure size 864x288 with 3 Axes>"
      ]
     },
     "metadata": {
      "needs_background": "light"
     },
     "output_type": "display_data"
    }
   ],
   "source": [
    "plt.figure(figsize=(12, 4))\n",
    "\n",
    "for idx, name in enumerate(['unit_tests', 'asserts', 'user_stories']):\n",
    "    plt.subplot(131 + idx)\n",
    "    plt.hist(df_diff[f'diff_{name}'])\n",
    "    plt.vlines(effect_dict[f'mean_{name}'], 0 ,300, color='red')\n",
    "    plt.title(name)\n",
    "    "
   ]
  },
  {
   "cell_type": "markdown",
   "metadata": {},
   "source": [
    "It seems that the effect of sleep is something cannot be attributed to chance. How often is the the difference in the spread less than or equal to the difference in the original dataset?"
   ]
  },
  {
   "cell_type": "code",
   "execution_count": 29,
   "metadata": {},
   "outputs": [
    {
     "data": {
      "text/plain": [
       "{'mean_unit_tests': -1.7714285714285714,\n",
       " 'mean_asserts': -1.685714285714286,\n",
       " 'mean_user_stories': -1.1142857142857143}"
      ]
     },
     "execution_count": 29,
     "metadata": {},
     "output_type": "execute_result"
    }
   ],
   "source": [
    "effect_dict"
   ]
  },
  {
   "cell_type": "code",
   "execution_count": 31,
   "metadata": {},
   "outputs": [
    {
     "data": {
      "text/plain": [
       "0.009"
      ]
     },
     "execution_count": 31,
     "metadata": {},
     "output_type": "execute_result"
    }
   ],
   "source": [
    "df_diff.assign(limit=lambda d: d['diff_unit_tests'] <  -1.7714)['limit'].mean()"
   ]
  },
  {
   "cell_type": "code",
   "execution_count": 32,
   "metadata": {},
   "outputs": [
    {
     "data": {
      "text/plain": [
       "0.002"
      ]
     },
     "execution_count": 32,
     "metadata": {},
     "output_type": "execute_result"
    }
   ],
   "source": [
    "df_diff.assign(limit=lambda d: d['diff_asserts'] <  -1.6857)['limit'].mean()"
   ]
  },
  {
   "cell_type": "code",
   "execution_count": 33,
   "metadata": {},
   "outputs": [
    {
     "data": {
      "text/plain": [
       "0.008"
      ]
     },
     "execution_count": 33,
     "metadata": {},
     "output_type": "execute_result"
    }
   ],
   "source": [
    "df_diff.assign(limit=lambda d: d['diff_user_stories'] < -1.1142)['limit'].mean()"
   ]
  },
  {
   "cell_type": "markdown",
   "metadata": {},
   "source": [
    "These differences are quite unlikely in the chance spread. So it is quite convincing that the diffence between sleep and no sleep is real and not due to chance."
   ]
  },
  {
   "cell_type": "markdown",
   "metadata": {},
   "source": [
    "### The question remains whether this diffence is due to the gpa and not sleep.\n",
    "So let's take a look at those numbers."
   ]
  },
  {
   "cell_type": "code",
   "execution_count": 45,
   "metadata": {},
   "outputs": [
    {
     "data": {
      "text/plain": [
       "{'mean_unit_tests': 0.19480519480519476,\n",
       " 'mean_asserts': 0.29220779220779214,\n",
       " 'mean_user_stories': 0.05844155844155852}"
      ]
     },
     "execution_count": 45,
     "metadata": {},
     "output_type": "execute_result"
    }
   ],
   "source": [
    "# Make gpa a categorical variable by splitting into above and below the mean.\n",
    "\n",
    "agg = (df\n",
    "       .assign(gpa=lambda d: d['gpa'] < d['gpa'].mean())\n",
    "       .groupby('gpa')\n",
    "       .agg(mean_unit_tests=('passed_unit_tests', np.mean),\n",
    "            mean_asserts=('passed_asserts', np.mean),\n",
    "            mean_user_stories=('tackled_user_stories', np.mean))).T\n",
    "\n",
    "agg[False] - agg[True]\n",
    "\n",
    "# put the difference in gpa in dictionary\n",
    "\n",
    "effect_dict = dict(agg[False] - agg[True])\n",
    "effect_dict\n"
   ]
  },
  {
   "cell_type": "code",
   "execution_count": 46,
   "metadata": {
    "scrolled": true
   },
   "outputs": [
    {
     "data": {
      "image/png": "[encoded data removed]",
      "text/plain": [
       "<Figure size 864x288 with 3 Axes>"
      ]
     },
     "metadata": {
      "needs_background": "light"
     },
     "output_type": "display_data"
    }
   ],
   "source": [
    "plt.figure(figsize=(12, 4))\n",
    "\n",
    "for idx, name in enumerate(['unit_tests', 'asserts', 'user_stories']):\n",
    "    plt.subplot(131 + idx)\n",
    "    plt.hist(df_diff[f'diff_{name}'])\n",
    "    plt.vlines(effect_dict[f'mean_{name}'], 0 ,300, color='red')\n",
    "    plt.title(name)"
   ]
  },
  {
   "cell_type": "code",
   "execution_count": 48,
   "metadata": {},
   "outputs": [
    {
     "data": {
      "text/plain": [
       "0.619"
      ]
     },
     "execution_count": 48,
     "metadata": {},
     "output_type": "execute_result"
    }
   ],
   "source": [
    "df_diff.assign(limit=lambda d: d['diff_unit_tests'] <  0.1948)['limit'].mean()"
   ]
  },
  {
   "cell_type": "code",
   "execution_count": 49,
   "metadata": {},
   "outputs": [
    {
     "data": {
      "text/plain": [
       "0.662"
      ]
     },
     "execution_count": 49,
     "metadata": {},
     "output_type": "execute_result"
    }
   ],
   "source": [
    "df_diff.assign(limit=lambda d: d['diff_unit_tests'] <  0.2922)['limit'].mean()"
   ]
  },
  {
   "cell_type": "code",
   "execution_count": 50,
   "metadata": {},
   "outputs": [
    {
     "data": {
      "text/plain": [
       "0.571"
      ]
     },
     "execution_count": 50,
     "metadata": {},
     "output_type": "execute_result"
    }
   ],
   "source": [
    "df_diff.assign(limit=lambda d: d['diff_unit_tests'] <  0.05844)['limit'].mean()"
   ]
  },
  {
   "cell_type": "markdown",
   "metadata": {},
   "source": [
    "It seems unlikely that these differences are due to gpa and quite likely that is it due to chance."
   ]
  },
  {
   "cell_type": "markdown",
   "metadata": {},
   "source": [
    "__Statistically sleep has more of an effect on programming abilities than GPA.__"
   ]
  }
 ],
 "metadata": {
  "kernelspec": {
   "display_name": "Python 3",
   "language": "python",
   "name": "python3"
  },
  "language_info": {
   "codemirror_mode": {
    "name": "ipython",
    "version": 3
   },
   "file_extension": ".py",
   "mimetype": "text/x-python",
   "name": "python",
   "nbconvert_exporter": "python",
   "pygments_lexer": "ipython3",
   "version": "3.7.6"
  }
 },
 "nbformat": 4,
 "nbformat_minor": 4
}
