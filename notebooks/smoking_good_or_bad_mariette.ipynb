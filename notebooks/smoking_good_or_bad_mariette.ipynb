{
 "cells": [
  {
   "cell_type": "markdown",
   "metadata": {},
   "source": [
    "# Smoking: Good or Bad? "
   ]
  },
  {
   "cell_type": "code",
   "execution_count": 1,
   "metadata": {},
   "outputs": [],
   "source": [
    "import numpy as np\n",
    "import pandas as pd"
   ]
  },
  {
   "cell_type": "code",
   "execution_count": 2,
   "metadata": {},
   "outputs": [
    {
     "data": {
      "text/html": [
       "<div>\n",
       "<style scoped>\n",
       "    .dataframe tbody tr th:only-of-type {\n",
       "        vertical-align: middle;\n",
       "    }\n",
       "\n",
       "    .dataframe tbody tr th {\n",
       "        vertical-align: top;\n",
       "    }\n",
       "\n",
       "    .dataframe thead th {\n",
       "        text-align: right;\n",
       "    }\n",
       "</style>\n",
       "<table border=\"1\" class=\"dataframe\">\n",
       "  <thead>\n",
       "    <tr style=\"text-align: right;\">\n",
       "      <th></th>\n",
       "      <th>outcome</th>\n",
       "      <th>smoker</th>\n",
       "      <th>age</th>\n",
       "    </tr>\n",
       "  </thead>\n",
       "  <tbody>\n",
       "    <tr>\n",
       "      <th>0</th>\n",
       "      <td>Alive</td>\n",
       "      <td>Yes</td>\n",
       "      <td>23</td>\n",
       "    </tr>\n",
       "    <tr>\n",
       "      <th>1</th>\n",
       "      <td>Alive</td>\n",
       "      <td>Yes</td>\n",
       "      <td>18</td>\n",
       "    </tr>\n",
       "    <tr>\n",
       "      <th>2</th>\n",
       "      <td>Dead</td>\n",
       "      <td>Yes</td>\n",
       "      <td>71</td>\n",
       "    </tr>\n",
       "    <tr>\n",
       "      <th>3</th>\n",
       "      <td>Alive</td>\n",
       "      <td>No</td>\n",
       "      <td>67</td>\n",
       "    </tr>\n",
       "    <tr>\n",
       "      <th>4</th>\n",
       "      <td>Alive</td>\n",
       "      <td>No</td>\n",
       "      <td>64</td>\n",
       "    </tr>\n",
       "  </tbody>\n",
       "</table>\n",
       "</div>"
      ],
      "text/plain": [
       "  outcome smoker  age\n",
       "0   Alive    Yes   23\n",
       "1   Alive    Yes   18\n",
       "2    Dead    Yes   71\n",
       "3   Alive     No   67\n",
       "4   Alive     No   64"
      ]
     },
     "execution_count": 2,
     "metadata": {},
     "output_type": "execute_result"
    }
   ],
   "source": [
    "df = pd.read_csv(\"data/smoking.csv\")\n",
    "df.head()"
   ]
  },
  {
   "cell_type": "markdown",
   "metadata": {},
   "source": [
    "# Step 0: Data Preprocessing\n",
    "\n",
    "Let's make sure that our dataset is clean before we analyse.\n",
    "\n",
    "TODO: create a new dataframe with columns `is_smoker` and `is_alive` containing `int` or `bool` values.\n",
    "We do this because they make our calculations easier later on when we will perform calculations (aggregate) over them."
   ]
  },
  {
   "cell_type": "code",
   "execution_count": 19,
   "metadata": {},
   "outputs": [
    {
     "data": {
      "text/html": [
       "<div>\n",
       "<style scoped>\n",
       "    .dataframe tbody tr th:only-of-type {\n",
       "        vertical-align: middle;\n",
       "    }\n",
       "\n",
       "    .dataframe tbody tr th {\n",
       "        vertical-align: top;\n",
       "    }\n",
       "\n",
       "    .dataframe thead th {\n",
       "        text-align: right;\n",
       "    }\n",
       "</style>\n",
       "<table border=\"1\" class=\"dataframe\">\n",
       "  <thead>\n",
       "    <tr style=\"text-align: right;\">\n",
       "      <th></th>\n",
       "      <th>is_smoker</th>\n",
       "      <th>is_alive</th>\n",
       "    </tr>\n",
       "    <tr>\n",
       "      <th>age</th>\n",
       "      <th></th>\n",
       "      <th></th>\n",
       "    </tr>\n",
       "  </thead>\n",
       "  <tbody>\n",
       "    <tr>\n",
       "      <th>18</th>\n",
       "      <td>0.476190</td>\n",
       "      <td>0.952381</td>\n",
       "    </tr>\n",
       "    <tr>\n",
       "      <th>19</th>\n",
       "      <td>0.428571</td>\n",
       "      <td>1.000000</td>\n",
       "    </tr>\n",
       "    <tr>\n",
       "      <th>20</th>\n",
       "      <td>0.421053</td>\n",
       "      <td>0.947368</td>\n",
       "    </tr>\n",
       "    <tr>\n",
       "      <th>21</th>\n",
       "      <td>0.500000</td>\n",
       "      <td>0.937500</td>\n",
       "    </tr>\n",
       "    <tr>\n",
       "      <th>22</th>\n",
       "      <td>0.333333</td>\n",
       "      <td>1.000000</td>\n",
       "    </tr>\n",
       "    <tr>\n",
       "      <th>...</th>\n",
       "      <td>...</td>\n",
       "      <td>...</td>\n",
       "    </tr>\n",
       "    <tr>\n",
       "      <th>80</th>\n",
       "      <td>0.111111</td>\n",
       "      <td>0.000000</td>\n",
       "    </tr>\n",
       "    <tr>\n",
       "      <th>81</th>\n",
       "      <td>0.500000</td>\n",
       "      <td>0.000000</td>\n",
       "    </tr>\n",
       "    <tr>\n",
       "      <th>82</th>\n",
       "      <td>0.250000</td>\n",
       "      <td>0.000000</td>\n",
       "    </tr>\n",
       "    <tr>\n",
       "      <th>83</th>\n",
       "      <td>0.250000</td>\n",
       "      <td>0.000000</td>\n",
       "    </tr>\n",
       "    <tr>\n",
       "      <th>84</th>\n",
       "      <td>0.100000</td>\n",
       "      <td>0.000000</td>\n",
       "    </tr>\n",
       "  </tbody>\n",
       "</table>\n",
       "<p>67 rows × 2 columns</p>\n",
       "</div>"
      ],
      "text/plain": [
       "     is_smoker  is_alive\n",
       "age                     \n",
       "18    0.476190  0.952381\n",
       "19    0.428571  1.000000\n",
       "20    0.421053  0.947368\n",
       "21    0.500000  0.937500\n",
       "22    0.333333  1.000000\n",
       "..         ...       ...\n",
       "80    0.111111  0.000000\n",
       "81    0.500000  0.000000\n",
       "82    0.250000  0.000000\n",
       "83    0.250000  0.000000\n",
       "84    0.100000  0.000000\n",
       "\n",
       "[67 rows x 2 columns]"
      ]
     },
     "execution_count": 19,
     "metadata": {},
     "output_type": "execute_result"
    }
   ],
   "source": [
    "# Make a copy of df to start so you don't change the original dataframe. \n",
    "# (This also happens if you use .assign, but it's a good insurance policy)\n",
    "def start_pipeline(dataf):\n",
    "    return dataf.copy()\n",
    "\n",
    "def clean_dataframe(dataf):\n",
    "    ## TODO: return a dataframe with columns `is_smoker` and `is_alive` \n",
    "    ## containing `int` or `bool` indicator values for respectively the 'smoker' and 'outcome' column\n",
    "    return (dataf\n",
    "    .assign(is_smoker=lambda x: (x[\"smoker\"] == \"Yes\").astype(np.int),\n",
    "            is_alive=lambda x: (x[\"outcome\"] == \"Alive\").astype(np.int))\n",
    "           )\n",
    "\n",
    "clean_df = df.pipe(start_pipeline).pipe(clean_dataframe)\n",
    "clean_df.head()\n"
   ]
  },
  {
   "cell_type": "markdown",
   "metadata": {},
   "source": [
    "# Question 1: what is the probability to live after 20 years, for smokers and non-smokers?"
   ]
  },
  {
   "cell_type": "markdown",
   "metadata": {},
   "source": [
    "Now that the dataset is clean, the analysis can begin!"
   ]
  },
  {
   "cell_type": "code",
   "execution_count": 14,
   "metadata": {},
   "outputs": [
    {
     "data": {
      "text/plain": [
       "is_smoker\n",
       "0    0.685792\n",
       "1    0.761168\n",
       "Name: is_alive, dtype: float64"
      ]
     },
     "execution_count": 14,
     "metadata": {},
     "output_type": "execute_result"
    }
   ],
   "source": [
    "def calc_prob_to_live(dataf):\n",
    "    ## TODO: Calculate the probability to live for smokers and non-smokers.\n",
    "    ## You can use the indicator columns created above to perform math (a np.mean for each group should work wonders)\n",
    "    \n",
    "    return (dataf\n",
    "            .groupby(['is_smoker'])['is_alive']\n",
    "            .agg(np.mean)\n",
    "           )\n",
    "\n",
    "prob_to_live_df = clean_df.pipe(calc_prob_to_live)\n",
    "prob_to_live_df.head()"
   ]
  },
  {
   "cell_type": "markdown",
   "metadata": {},
   "source": [
    "---"
   ]
  },
  {
   "cell_type": "markdown",
   "metadata": {},
   "source": [
    "# Question 2: What? Why? "
   ]
  },
  {
   "cell_type": "markdown",
   "metadata": {},
   "source": [
    "Let's see if we can explain why, in our analysis above, smokers seem to have a larger survival rate than non-smokers \n",
    "\n",
    "### Effect of Age \n",
    "\n",
    "It might be that your age actually has a very large effect on the probability that you will be alive in 20 years or not. Lets quantify that. "
   ]
  },
  {
   "cell_type": "code",
   "execution_count": 21,
   "metadata": {
    "scrolled": true
   },
   "outputs": [
    {
     "data": {
      "image/png": "[encoded data removed]",
      "text/plain": [
       "<Figure size 432x288 with 1 Axes>"
      ]
     },
     "metadata": {
      "needs_background": "light"
     },
     "output_type": "display_data"
    }
   ],
   "source": [
    "def calc_effect_of_age(dataf):\n",
    "    # TODO: Transform the data here in such a way that we can plot\n",
    "    # the effect of age on the probability to live easily.\n",
    "    # I recommend to bin/group the age column per 10 years, \n",
    "    # so that you have more values for each age group. \n",
    "    return (dataf\n",
    "            .assign(age=lambda x: np.round(x[\"age\"] / 10) * 10)\n",
    "            .groupby(\"age\")\n",
    "            .agg(p=(\"is_alive\", np.mean))\n",
    "           )\n",
    "           \n",
    "\n",
    "age_effect_df = calc_effect_of_age(clean_df)\n",
    "\n",
    "# TODO: Plot the probability to live over the age in a linechart\n",
    "# y axis: probability to live\n",
    "# x axis: age (bundled in 'bins' of 10 years)\n",
    "age_effect_df.plot();\n",
    "\n"
   ]
  },
  {
   "cell_type": "markdown",
   "metadata": {},
   "source": [
    "---"
   ]
  },
  {
   "cell_type": "markdown",
   "metadata": {},
   "source": [
    "# Question 3: How does this age effect quantify for smokers and non-smokers?\n",
    "\n",
    "In our answer on question two, we can see that the probability to live in 20 years decreases once you gets older. That makes sense. \n",
    "\n",
    "But how does that differ for smokers and non-smokers?"
   ]
  },
  {
   "cell_type": "code",
   "execution_count": 20,
   "metadata": {},
   "outputs": [
    {
     "name": "stdout",
     "output_type": "stream",
     "text": [
      "is_smoker         0         1\n",
      "age                          \n",
      "20.0       0.988372  0.971014\n",
      "30.0       0.971831  0.972973\n",
      "40.0       0.925620  0.873950\n",
      "50.0       0.852941  0.803419\n",
      "60.0       0.622222  0.547009\n",
      "70.0       0.215517  0.166667\n",
      "80.0       0.000000  0.000000\n"
     ]
    },
    {
     "data": {
      "image/png": "[encoded data removed]",
      "text/plain": [
       "<Figure size 432x288 with 1 Axes>"
      ]
     },
     "metadata": {
      "needs_background": "light"
     },
     "output_type": "display_data"
    }
   ],
   "source": [
    "def calc_effect_of_age2(dataf):\n",
    "    # TODO: Transform the data here in such a way that we can plot\n",
    "    # the effect of age on the probability to live easily.\n",
    "    # This time, let's make a line chart for both the smokers and the non-smokers\n",
    "    # I recommend to bin/group the age column per 10 years, \n",
    "    # so that you have more values for each age group.  \n",
    "    return (dataf\n",
    "            .assign(age=lambda x: np.round(x[\"age\"] / 10) * 10)\n",
    "            .groupby([\"is_smoker\",\"age\"])\n",
    "            .agg(p=(\"is_alive\", np.mean))\n",
    "            .reset_index()\n",
    "            .pivot(index='age', columns='is_smoker', values='p')\n",
    "           )\n",
    "\n",
    "age_effect_smoke_vs_nonsmoke = calc_effect_of_age2(clean_df)\n",
    "\n",
    "# TODO: Plot the probability to live over the age in a linechart\n",
    "# y axis: probability to live\n",
    "# x axis: age (bundled in 'bins' of 10 years)\n",
    "# lines: 1 for smokers, 1 for non-smokers\n",
    "print(age_effect_smoke_vs_nonsmoke)\n",
    "age_effect_smoke_vs_nonsmoke.plot();\n"
   ]
  },
  {
   "cell_type": "markdown",
   "metadata": {},
   "source": [
    "---"
   ]
  },
  {
   "cell_type": "markdown",
   "metadata": {},
   "source": [
    "# Question 4: What is the benefit of not smoking for different age groups?\n",
    "i.e.: \n",
    " - What is the probability to live for smokers for different age groups (e.g. 20s, 30s, ... 80s)\n",
    "   - you can obtain this data from question 4\n",
    " - What is the probability to live for non-smokers for different age groups (e.g. 20s, 30s, ... 80s)\n",
    "   - you can obtain this data from question 4\n",
    " - What is the difference in this probabilty for different age groups (e.g. 20s, 30s, ... 80s)\n",
    "   - **TODO: calculate this**"
   ]
  },
  {
   "cell_type": "code",
   "execution_count": 8,
   "metadata": {},
   "outputs": [
    {
     "data": {
      "text/html": [
       "<div>\n",
       "<style scoped>\n",
       "    .dataframe tbody tr th:only-of-type {\n",
       "        vertical-align: middle;\n",
       "    }\n",
       "\n",
       "    .dataframe tbody tr th {\n",
       "        vertical-align: top;\n",
       "    }\n",
       "\n",
       "    .dataframe thead th {\n",
       "        text-align: right;\n",
       "    }\n",
       "</style>\n",
       "<table border=\"1\" class=\"dataframe\">\n",
       "  <thead>\n",
       "    <tr style=\"text-align: right;\">\n",
       "      <th>is_smoker</th>\n",
       "      <th>0</th>\n",
       "      <th>1</th>\n",
       "      <th>difference</th>\n",
       "    </tr>\n",
       "    <tr>\n",
       "      <th>age</th>\n",
       "      <th></th>\n",
       "      <th></th>\n",
       "      <th></th>\n",
       "    </tr>\n",
       "  </thead>\n",
       "  <tbody>\n",
       "    <tr>\n",
       "      <th>20.0</th>\n",
       "      <td>0.988372</td>\n",
       "      <td>0.971014</td>\n",
       "      <td>0.017358</td>\n",
       "    </tr>\n",
       "    <tr>\n",
       "      <th>30.0</th>\n",
       "      <td>0.971831</td>\n",
       "      <td>0.972973</td>\n",
       "      <td>-0.001142</td>\n",
       "    </tr>\n",
       "    <tr>\n",
       "      <th>40.0</th>\n",
       "      <td>0.925620</td>\n",
       "      <td>0.873950</td>\n",
       "      <td>0.051670</td>\n",
       "    </tr>\n",
       "    <tr>\n",
       "      <th>50.0</th>\n",
       "      <td>0.852941</td>\n",
       "      <td>0.803419</td>\n",
       "      <td>0.049522</td>\n",
       "    </tr>\n",
       "    <tr>\n",
       "      <th>60.0</th>\n",
       "      <td>0.622222</td>\n",
       "      <td>0.547009</td>\n",
       "      <td>0.075214</td>\n",
       "    </tr>\n",
       "    <tr>\n",
       "      <th>70.0</th>\n",
       "      <td>0.215517</td>\n",
       "      <td>0.166667</td>\n",
       "      <td>0.048851</td>\n",
       "    </tr>\n",
       "    <tr>\n",
       "      <th>80.0</th>\n",
       "      <td>0.000000</td>\n",
       "      <td>0.000000</td>\n",
       "      <td>0.000000</td>\n",
       "    </tr>\n",
       "  </tbody>\n",
       "</table>\n",
       "</div>"
      ],
      "text/plain": [
       "is_smoker         0         1  difference\n",
       "age                                      \n",
       "20.0       0.988372  0.971014    0.017358\n",
       "30.0       0.971831  0.972973   -0.001142\n",
       "40.0       0.925620  0.873950    0.051670\n",
       "50.0       0.852941  0.803419    0.049522\n",
       "60.0       0.622222  0.547009    0.075214\n",
       "70.0       0.215517  0.166667    0.048851\n",
       "80.0       0.000000  0.000000    0.000000"
      ]
     },
     "execution_count": 8,
     "metadata": {},
     "output_type": "execute_result"
    }
   ],
   "source": [
    "## TODO: write the code in this cell and output a table/plot that shows the mentioned difference\n",
    "# pivot table with probabilities to live of smoke vs nonsmoke per age group \n",
    "\n",
    "def diff_smoke_vs_nonsmoke(dataf):\n",
    "    return (dataf\n",
    "            .assign(age=lambda x: np.round(x[\"age\"] / 10) * 10)\n",
    "            .groupby([\"is_smoker\",\"age\"])\n",
    "            .agg(p=(\"is_alive\", np.mean))\n",
    "            .reset_index()\n",
    "            .pivot(index='age', columns='is_smoker', values='p')\n",
    "            .assign(difference= lambda x: x[0]-x[1])\n",
    "           )\n",
    "\n",
    "difference_smoke_vs_nonsmoke = diff_smoke_vs_nonsmoke(clean_df)\n",
    "difference_smoke_vs_nonsmoke"
   ]
  },
  {
   "cell_type": "markdown",
   "metadata": {},
   "source": [
    "---"
   ]
  },
  {
   "cell_type": "markdown",
   "metadata": {},
   "source": [
    "# Conclusion: Is smoking good or bad for your probability to live in 20 years??"
   ]
  },
  {
   "cell_type": "code",
   "execution_count": 9,
   "metadata": {},
   "outputs": [],
   "source": [
    "# TODO Explain in 2 or three sentences\n",
    "# Smoking is bad for your probability to live in 20 years. The probability to live in 20 years decreases when you smoke."
   ]
  },
  {
   "cell_type": "markdown",
   "metadata": {},
   "source": [
    "## Discussion: What things should/could we take into account when extending this analysis? \n",
    "\n",
    "Name at least 2 things"
   ]
  },
  {
   "cell_type": "code",
   "execution_count": 10,
   "metadata": {},
   "outputs": [],
   "source": [
    "# the amount of people in each age group.\n",
    "# your probability to live in 20 years decreases as you get older."
   ]
  },
  {
   "cell_type": "code",
   "execution_count": null,
   "metadata": {},
   "outputs": [],
   "source": []
  }
 ],
 "metadata": {
  "kernelspec": {
   "display_name": "Python 3",
   "language": "python",
   "name": "python3"
  },
  "language_info": {
   "codemirror_mode": {
    "name": "ipython",
    "version": 3
   },
   "file_extension": ".py",
   "mimetype": "text/x-python",
   "name": "python",
   "nbconvert_exporter": "python",
   "pygments_lexer": "ipython3",
   "version": "3.7.6"
  }
 },
 "nbformat": 4,
 "nbformat_minor": 4
}
